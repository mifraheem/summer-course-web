{
 "cells": [
  {
   "cell_type": "code",
   "execution_count": null,
   "id": "9e76bd0b",
   "metadata": {},
   "outputs": [
    {
     "name": "stdout",
     "output_type": "stream",
     "text": [
      "Attendence for Day: 1\n",
      "Attendence for Day: 2\n",
      "Attendence for Day: 3\n",
      "[{'name': 'Hira', 'attendence': ['absent', 'absent', 'present']}, {'name': 'Arina', 'attendence': ['absent', 'absent', 'absent']}, {'name': 'Asmara', 'attendence': ['absent', 'present', 'absent']}, {'name': 'Mehnaz', 'attendence': ['present', 'present', 'present']}]\n"
     ]
    }
   ],
   "source": [
    "students = [\n",
    "    {\n",
    "        \"name\": \"Hira\",\n",
    "        \"attendence\": []\n",
    "    },\n",
    "    {\n",
    "        \"name\": \"Arina\",\n",
    "        \"attendence\": []\n",
    "    },\n",
    "    {\n",
    "        \"name\": \"Asmara\",\n",
    "        \"attendence\": []\n",
    "    },\n",
    "    {\n",
    "        \"name\": \"Mehnaz\",\n",
    "        \"attendence\": []\n",
    "    },\n",
    "]\n",
    "days = 3\n",
    "for day in range(days):\n",
    "    print(f\"Attendence for Day: {day+1}\")\n",
    "    for student in students:\n",
    "        att = input(\n",
    "            f\"Day: {day+1} - Attendence for {student[\"name\"]} - (a/p): \")\n",
    "        if att == \"a\":\n",
    "            student[\"attendence\"].append(\"present\")\n",
    "        elif att == \"p\":\n",
    "            student[\"attendence\"].append(\"absent\")\n",
    "        else:\n",
    "            print(\"Failed to mark attendence. Invalid Choice!\")\n",
    "            break\n",
    "print(students)"
   ]
  },
  {
   "cell_type": "code",
   "execution_count": null,
   "id": "15fd26a6",
   "metadata": {},
   "outputs": [],
   "source": [
    "book = {\n",
    "    \"name\": \"test\",\n",
    "    \"prices\": []\n",
    "}\n",
    "type(book[\"prices\"])\n",
    "book[\"prices\"].append(500)\n",
    "book"
   ]
  },
  {
   "cell_type": "markdown",
   "id": "dda6b751",
   "metadata": {},
   "source": [
    "prays = [[yes, no, yes, yes, no], [no, no, yes, yes, yes], [yes, yes, yes, yes, yes]]"
   ]
  }
 ],
 "metadata": {
  "kernelspec": {
   "display_name": "base",
   "language": "python",
   "name": "python3"
  },
  "language_info": {
   "codemirror_mode": {
    "name": "ipython",
    "version": 3
   },
   "file_extension": ".py",
   "mimetype": "text/x-python",
   "name": "python",
   "nbconvert_exporter": "python",
   "pygments_lexer": "ipython3",
   "version": "3.13.2"
  }
 },
 "nbformat": 4,
 "nbformat_minor": 5
}
