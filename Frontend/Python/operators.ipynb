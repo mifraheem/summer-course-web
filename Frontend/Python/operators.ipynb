{
 "cells": [
  {
   "cell_type": "markdown",
   "id": "c1a79bcb",
   "metadata": {},
   "source": [
    "## Arithmetic Operators\n",
    "URL: https://www.w3schools.com/python/python_operators.asp"
   ]
  },
  {
   "cell_type": "code",
   "execution_count": null,
   "id": "88b0e28e",
   "metadata": {},
   "outputs": [
    {
     "name": "stdout",
     "output_type": "stream",
     "text": [
      "70\n"
     ]
    }
   ],
   "source": [
    "num1 = 50\n",
    "num2 = 20\n",
    "res = num1 + num2\n",
    "print(res)\n",
    "\n",
    "# / , %\n"
   ]
  },
  {
   "cell_type": "code",
   "execution_count": 23,
   "id": "3046beb3",
   "metadata": {},
   "outputs": [
    {
     "name": "stdout",
     "output_type": "stream",
     "text": [
      "3\n",
      "2\n"
     ]
    }
   ],
   "source": [
    "print(int(22/7))\n",
    "print(9%7)"
   ]
  },
  {
   "cell_type": "code",
   "execution_count": 29,
   "id": "e3cdba81",
   "metadata": {},
   "outputs": [
    {
     "name": "stdout",
     "output_type": "stream",
     "text": [
      "8\n"
     ]
    }
   ],
   "source": [
    "print(2*2*2)\n",
    "# 2 * 2 * 2"
   ]
  },
  {
   "cell_type": "code",
   "execution_count": null,
   "id": "4436cf29",
   "metadata": {},
   "outputs": [
    {
     "name": "stdout",
     "output_type": "stream",
     "text": [
      "3\n"
     ]
    }
   ],
   "source": [
    "print(26/7)"
   ]
  },
  {
   "cell_type": "markdown",
   "id": "15082396",
   "metadata": {},
   "source": [
    "## Assignment Operators"
   ]
  },
  {
   "cell_type": "code",
   "execution_count": 44,
   "id": "53e67e9c",
   "metadata": {},
   "outputs": [
    {
     "name": "stdout",
     "output_type": "stream",
     "text": [
      "15\n",
      "12\n",
      "24\n"
     ]
    }
   ],
   "source": [
    "a = 5\n",
    "a += 10\n",
    "print(a) # 15\n",
    "a -= 3 # a = a - 3\n",
    "print(a) # 12\n",
    "\n",
    "a *= 2 # a = a * 2\n",
    "print(a) # 24\n"
   ]
  },
  {
   "cell_type": "markdown",
   "id": "63aeec0b",
   "metadata": {},
   "source": [
    "# Comparison Operators"
   ]
  },
  {
   "cell_type": "code",
   "execution_count": null,
   "id": "74f37805",
   "metadata": {},
   "outputs": [
    {
     "name": "stdout",
     "output_type": "stream",
     "text": [
      "True\n"
     ]
    }
   ],
   "source": [
    "\n",
    "a = 40\n",
    "b = 40\n",
    "print(a == b)\n",
    "\n"
   ]
  },
  {
   "cell_type": "code",
   "execution_count": null,
   "id": "30ece11d",
   "metadata": {},
   "outputs": [
    {
     "data": {
      "text/plain": [
       "True"
      ]
     },
     "execution_count": 52,
     "metadata": {},
     "output_type": "execute_result"
    }
   ],
   "source": [
    "5 != 50\n"
   ]
  },
  {
   "cell_type": "code",
   "execution_count": 63,
   "id": "f61e4ab5",
   "metadata": {},
   "outputs": [
    {
     "name": "stdout",
     "output_type": "stream",
     "text": [
      "True\n",
      "True\n",
      "True\n",
      "True\n"
     ]
    }
   ],
   "source": [
    "0 > 5\n",
    "num = 50\n",
    "num2 = 20\n",
    " #    50  >  20\n",
    "print(num > num2) \n",
    "\n",
    "#      20  <  50\n",
    "print(num2 < num) \n",
    "\n",
    "print(num >= num)\n",
    "\n",
    "print(num2 <= num)"
   ]
  },
  {
   "cell_type": "markdown",
   "id": "00046b6a",
   "metadata": {},
   "source": [
    "# Logical Operators"
   ]
  },
  {
   "cell_type": "code",
   "execution_count": 68,
   "id": "cfb00203",
   "metadata": {},
   "outputs": [
    {
     "name": "stdout",
     "output_type": "stream",
     "text": [
      "True\n",
      "False\n"
     ]
    }
   ],
   "source": [
    "a = 5\n",
    "b = 10\n",
    "c = 15\n",
    "#     5 > 10 or 15 > 5\n",
    "print(a > b or c > a )\n",
    "#     False |   True\n",
    "\n",
    "\n",
    "#     5 > 10 and 15 > 5\n",
    "print(a > b and c > a )\n",
    "#     False |   True\n"
   ]
  },
  {
   "cell_type": "code",
   "execution_count": 2,
   "id": "f533449f",
   "metadata": {},
   "outputs": [
    {
     "name": "stdout",
     "output_type": "stream",
     "text": [
      "True\n"
     ]
    }
   ],
   "source": [
    "\n",
    "a = 5\n",
    "b = 10\n",
    "print(not (a > b))"
   ]
  }
 ],
 "metadata": {
  "kernelspec": {
   "display_name": "base",
   "language": "python",
   "name": "python3"
  },
  "language_info": {
   "codemirror_mode": {
    "name": "ipython",
    "version": 3
   },
   "file_extension": ".py",
   "mimetype": "text/x-python",
   "name": "python",
   "nbconvert_exporter": "python",
   "pygments_lexer": "ipython3",
   "version": "3.13.2"
  }
 },
 "nbformat": 4,
 "nbformat_minor": 5
}
