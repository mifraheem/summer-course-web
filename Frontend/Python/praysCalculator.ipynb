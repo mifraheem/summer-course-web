{
 "cells": [
  {
   "cell_type": "code",
   "execution_count": null,
   "id": "b2bcdfee",
   "metadata": {},
   "outputs": [
    {
     "name": "stdout",
     "output_type": "stream",
     "text": [
      "Prays on Day: 1\n",
      "['yes']\n",
      "['yes', 'no']\n",
      "['yes', 'no', 'yes']\n",
      "['yes', 'no', 'yes', 'yes']\n",
      "['yes', 'no', 'yes', 'yes', 'no']\n",
      "['no']\n",
      "['no', 'yes']\n",
      "['no', 'yes', 'yes']\n",
      "['no', 'yes', 'yes', 'yes']\n",
      "['no', 'yes', 'yes', 'yes', 'yes']\n",
      "['no']\n",
      "['no', 'no']\n",
      "['no', 'no', 'yes']\n",
      "['no', 'no', 'yes', 'yes']\n",
      "['no', 'no', 'yes', 'yes', 'yes']\n",
      "Prays on Day: 2\n",
      "['yes', 'no', 'yes', 'yes', 'no', 'yes']\n",
      "Prays for day 1 completed!\n",
      "['no', 'yes', 'yes', 'yes', 'yes', 'yes']\n",
      "Prays for day 1 completed!\n",
      "['no', 'no', 'yes', 'yes', 'yes', 'yes']\n",
      "Prays for day 1 completed!\n",
      "Prays on Day: 3\n",
      "Prays for day 2 completed!\n",
      "Prays for day 2 completed!\n",
      "Prays for day 2 completed!\n",
      "[['yes', 'no', 'yes', 'yes', 'no', 'yes'], ['no', 'yes', 'yes', 'yes', 'yes', 'yes'], ['no', 'no', 'yes', 'yes', 'yes', 'yes']]\n"
     ]
    }
   ],
   "source": [
    "prays = [[], [], []]\n",
    "# praysNames = \n",
    "days = 3\n",
    "maxPraysInDay = 5\n",
    "for day in range(days): # looop for days\n",
    "  print(f\"Prays on Day: {day+1}\")\n",
    "  for pray in prays: # loop for prays \n",
    "    for prayNo in range(maxPraysInDay): # loop for pray number in a day\n",
    "      if len(pray) <= maxPraysInDay:\n",
    "        prayStatus = input(f\"Have you offer your pray {prayNo}: (yes/no)\")\n",
    "        pray.append(prayStatus)\n",
    "        print(pray)\n",
    "      else:\n",
    "        print(f\"Prays for day {day} completed!\")\n",
    "        break\n",
    "\n",
    "print(prays)\n",
    "\n",
    "\n",
    "\n",
    "\n"
   ]
  }
 ],
 "metadata": {
  "kernelspec": {
   "display_name": "base",
   "language": "python",
   "name": "python3"
  },
  "language_info": {
   "codemirror_mode": {
    "name": "ipython",
    "version": 3
   },
   "file_extension": ".py",
   "mimetype": "text/x-python",
   "name": "python",
   "nbconvert_exporter": "python",
   "pygments_lexer": "ipython3",
   "version": "3.13.2"
  }
 },
 "nbformat": 4,
 "nbformat_minor": 5
}
