{
 "cells": [
  {
   "cell_type": "markdown",
   "id": "ad1d638b",
   "metadata": {},
   "source": [
    "# Conditional Statements, Loops"
   ]
  },
  {
   "cell_type": "markdown",
   "id": "1f24c6e3",
   "metadata": {},
   "source": [
    "## 1. Conditional Statements in Python"
   ]
  },
  {
   "cell_type": "code",
   "execution_count": 31,
   "id": "d2b0dd5f",
   "metadata": {},
   "outputs": [
    {
     "name": "stdout",
     "output_type": "stream",
     "text": [
      "you are above 20 years old\n",
      "you are also above 30\n"
     ]
    }
   ],
   "source": [
    "age = 30\n",
    "if age >= 20:\n",
    "    print(\"you are above 20 years old\")\n",
    "    if age >= 30:\n",
    "        print(\"you are also above 30\")\n",
    "    else:\n",
    "        print(\"you are about 20 but not 30\")\n",
    "\n",
    "else:\n",
    "    print(\"you are not 20 years old\")"
   ]
  },
  {
   "cell_type": "code",
   "execution_count": 13,
   "id": "140df18e",
   "metadata": {},
   "outputs": [
    {
     "name": "stdout",
     "output_type": "stream",
     "text": [
      "You are 10 years old.\n"
     ]
    }
   ],
   "source": [
    "age = 10\n",
    "if age == 20:\n",
    "    print(\"You are 20 years old.\")\n",
    "\n",
    "elif age == 10:\n",
    "    print(\"You are 10 years old.\")\n",
    "else:\n",
    "    print(\"You are not 20 or 10 years old.\")"
   ]
  },
  {
   "cell_type": "markdown",
   "id": "473d75ae",
   "metadata": {},
   "source": [
    "### NADRA Id Card Process System\n",
    "in KOTLI"
   ]
  },
  {
   "cell_type": "code",
   "execution_count": 44,
   "id": "1325ed90",
   "metadata": {},
   "outputs": [
    {
     "name": "stdout",
     "output_type": "stream",
     "text": [
      "Ok, We will proceed your Request for id card\n",
      "id card generated successfully for Ali with age 20 and address Kotli\n",
      "a message has been sent to 1234567890\n",
      "Exit\n"
     ]
    }
   ],
   "source": [
    "user = {\n",
    "  \"name\":\"Ali\",\n",
    "  \"age\":20,\n",
    "  \"address\":\"Kotli\",\n",
    "  \"phone\":\"1234567890\",\n",
    "}\n",
    "if user[\"age\"] >= 18:\n",
    "  print(\"Ok, We will proceed your Request for id card\")\n",
    "  if user[\"address\"] == \"Kotli\":\n",
    "    # print(\"ID Card generated successfully.\")\n",
    "    # id card generated successfully for <user name> with age <age> and address <address>\n",
    "    # print(\"ID Card generated successfully for \", user[\"name\"], \" with age \", user[\"age\"], \" address \", user[\"address\"])\n",
    "    print(f\"id card generated successfully for {user['name']} with age {user['age']} and address {user['address']}\")\n",
    "    print(f\"a message has been sent to {user['phone']}\")\n",
    "  else:\n",
    "    print(\"Please contact with your related NADRA office.\")\n",
    "  \n",
    "else:\n",
    "  print(\"Sorry. we can't proceed your request\")\n",
    "\n",
    "\n",
    "print(\"Exit\")"
   ]
  },
  {
   "cell_type": "markdown",
   "id": "724541ea",
   "metadata": {},
   "source": [
    "## List + Conditional Statements"
   ]
  },
  {
   "cell_type": "code",
   "execution_count": null,
   "id": "e810887a",
   "metadata": {},
   "outputs": [],
   "source": [
    "students = [\"Ali\", \"Sudais\", \"Jwad\"]\n"
   ]
  }
 ],
 "metadata": {
  "kernelspec": {
   "display_name": "base",
   "language": "python",
   "name": "python3"
  },
  "language_info": {
   "codemirror_mode": {
    "name": "ipython",
    "version": 3
   },
   "file_extension": ".py",
   "mimetype": "text/x-python",
   "name": "python",
   "nbconvert_exporter": "python",
   "pygments_lexer": "ipython3",
   "version": "3.13.2"
  }
 },
 "nbformat": 4,
 "nbformat_minor": 5
}
