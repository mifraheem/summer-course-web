{
 "cells": [
  {
   "cell_type": "markdown",
   "id": "ad1d638b",
   "metadata": {},
   "source": [
    "# Conditional Statements, Loops"
   ]
  },
  {
   "cell_type": "markdown",
   "id": "1f24c6e3",
   "metadata": {},
   "source": [
    "## 1. Conditional Statements in Python"
   ]
  },
  {
   "cell_type": "code",
   "execution_count": null,
   "id": "d2b0dd5f",
   "metadata": {},
   "outputs": [],
   "source": [
    "age = 30\n",
    "if age >= 20:\n",
    "    print(\"you are above 20 years old\")\n",
    "    if age >= 30:\n",
    "        print(\"you are also above 30\")\n",
    "    else:\n",
    "        print(\"you are about 20 but not 30\")\n",
    "\n",
    "else:\n",
    "    print(\"you are not 20 years old\")"
   ]
  },
  {
   "cell_type": "code",
   "execution_count": null,
   "id": "140df18e",
   "metadata": {},
   "outputs": [],
   "source": [
    "age = 10\n",
    "if age == 20:\n",
    "    print(\"You are 20 years old.\")\n",
    "\n",
    "elif age == 10:\n",
    "    print(\"You are 10 years old.\")\n",
    "else:\n",
    "    print(\"You are not 20 or 10 years old.\")"
   ]
  },
  {
   "cell_type": "markdown",
   "id": "473d75ae",
   "metadata": {},
   "source": [
    "### NADRA Id Card Process System\n",
    "in KOTLI"
   ]
  },
  {
   "cell_type": "code",
   "execution_count": null,
   "id": "1325ed90",
   "metadata": {},
   "outputs": [],
   "source": [
    "user = {\n",
    "  \"name\":\"Ali\",\n",
    "  \"age\":20,\n",
    "  \"address\":\"Kotli\",\n",
    "  \"phone\":\"1234567890\",\n",
    "}\n",
    "if user[\"age\"] >= 18:\n",
    "  print(\"Ok, We will proceed your Request for id card\")\n",
    "  if user[\"address\"] == \"Kotli\":\n",
    "    # print(\"ID Card generated successfully.\")\n",
    "    # id card generated successfully for <user name> with age <age> and address <address>\n",
    "    # print(\"ID Card generated successfully for \", user[\"name\"], \" with age \", user[\"age\"], \" address \", user[\"address\"])\n",
    "    print(f\"id card generated successfully for {user['name']} with age {user['age']} and address {user['address']}\")\n",
    "    print(f\"a message has been sent to {user['phone']}\")\n",
    "  else:\n",
    "    print(\"Please contact with your related NADRA office.\")\n",
    "  \n",
    "else:\n",
    "  print(\"Sorry. we can't proceed your request\")\n",
    "\n",
    "\n",
    "print(\"Exit\")"
   ]
  },
  {
   "cell_type": "markdown",
   "id": "724541ea",
   "metadata": {},
   "source": [
    "## List + Conditional Statements"
   ]
  },
  {
   "cell_type": "code",
   "execution_count": null,
   "id": "e810887a",
   "metadata": {},
   "outputs": [],
   "source": [
    "students = [\"Ali\", \"Sudais\", \"Jwad\"]\n",
    "newStudent = input(\"Enter the name of new student: \")\n",
    "\n",
    "if newStudent in students:\n",
    "  print(\"yes, this student already in DB \")\n",
    "\n",
    "else:\n",
    "  print(\"No, this student doesn't exist in DB\")\n",
    "  toAdd = input(\"Do you want to save this Student in DB ? (yes/no): \")\n",
    "  if toAdd.lower() == \"yes\":\n",
    "    students.append(newStudent)\n",
    "    print(f\"{newStudent} Registered successfully.\")\n",
    "    print(students)\n",
    "  else:\n",
    "    print(\"New student registration skipped.\")\n",
    "print(\"exit\")"
   ]
  },
  {
   "cell_type": "code",
   "execution_count": null,
   "id": "5a95c02d",
   "metadata": {},
   "outputs": [],
   "source": [
    "name = \"MIfraheem\"\n",
    "info = \"hey, i am ifraheem. a devops engineer. i have 3 years of experience in this domain.\"\n",
    "# print(name.upper())\n",
    "# print(name.lower())\n",
    "# print(info.capitalize())\n",
    "# print(info.count(\"devops\"))\n",
    "\n",
    "print(name.isalpha())\n"
   ]
  },
  {
   "cell_type": "code",
   "execution_count": null,
   "id": "bf6af7d3",
   "metadata": {},
   "outputs": [],
   "source": [
    "# students = [\"Ali\", \"Sudais\", \"Jwad\"]\n",
    "# \"Alia\" in students"
   ]
  },
  {
   "cell_type": "markdown",
   "id": "b1f7235c",
   "metadata": {},
   "source": [
    "## Student Result.\n",
    "1. 2 lists for student fail/pass\n",
    "2. Check a student is fail or pass\n",
    "3. show result \n",
    "4. if not ask to decide he is fail or pass\n",
    "5. add student to related DB\n",
    "6. show whole result"
   ]
  },
  {
   "cell_type": "code",
   "execution_count": null,
   "id": "1b320c1e",
   "metadata": {},
   "outputs": [],
   "source": [
    "failStudents = [\"Asmara\", \"Mehnaz\"]\n",
    "passStudents = [\"Hira\", \"Arina\"]\n",
    "\n",
    "std = input(\"Enter the name of Student: \")\n",
    "\n",
    "if std in failStudents:\n",
    "  print(f\"{std} is failled\")\n",
    "\n",
    "elif std in passStudents:\n",
    "  print(f\"{std} is passed\")\n",
    "\n",
    "else:\n",
    "  print(\"No Result Found\")\n",
    "  stdRes = input(\"This student is fail or pass? (fail/pass) :\")\n",
    "  if stdRes.lower() == \"fail\":\n",
    "    failStudents.append(std)\n",
    "    print(f\"Failled Students: {failStudents}\")\n",
    "  elif stdRes.lower() == \"pass\":\n",
    "    passStudents.append(std)\n",
    "    print(f\"Passed Students: {passStudents}\")\n",
    "  else:\n",
    "    print(\"Invalid Result Choice\")"
   ]
  },
  {
   "cell_type": "markdown",
   "id": "8b4b0359",
   "metadata": {},
   "source": [
    "# LOOPS\n",
    "## For Loop"
   ]
  },
  {
   "cell_type": "code",
   "execution_count": null,
   "id": "09072977",
   "metadata": {},
   "outputs": [],
   "source": [
    "for i in range(10, 20, 2):\n",
    "  print(i)\n",
    "  print(f\"iteration {i} completed\")\n",
    "\n",
    "print(\"program exit\")"
   ]
  },
  {
   "cell_type": "markdown",
   "id": "8fa1c765",
   "metadata": {},
   "source": [
    "### Students Name formatting"
   ]
  },
  {
   "cell_type": "code",
   "execution_count": null,
   "id": "b5d5a95f",
   "metadata": {},
   "outputs": [],
   "source": [
    "students = [\"asmara\", \"Mehnaz\", \"hira\", \"Arina\", \"Sudais\", \"jawad\"]\n",
    "formmatedStudents = []\n",
    "print(students)\n",
    "for std in students:\n",
    "  formmatedStudents.append(std.capitalize())\n",
    "\n",
    "print(formmatedStudents)"
   ]
  },
  {
   "cell_type": "code",
   "execution_count": null,
   "id": "4b37a80b",
   "metadata": {},
   "outputs": [],
   "source": [
    "students = [\"asmara\", \"Mehnaz\", \"hira\", \"Arina\", \"Sudais\", \"jawad\"]\n",
    "print(students)\n",
    "for ind, std in enumerate(students):\n",
    "  print(ind, std)"
   ]
  },
  {
   "cell_type": "code",
   "execution_count": 130,
   "id": "85816399",
   "metadata": {},
   "outputs": [
    {
     "name": "stdout",
     "output_type": "stream",
     "text": [
      "Data Limit:  5\n",
      "0\n",
      "asmara\n",
      "1\n",
      "Mehnaz\n",
      "2\n",
      "hira\n",
      "3\n",
      "Arina\n",
      "4\n",
      "Sudais\n",
      "5\n",
      "jawad\n"
     ]
    }
   ],
   "source": [
    "students = [\"asmara\", \"Mehnaz\", \"hira\", \"Arina\", \"Sudais\", \"jawad\"]\n",
    "\n",
    "# while condition:\n",
    "  # code\n",
    "dataLimit = len(students) - 1\n",
    "print(\"Data Limit: \", dataLimit)\n",
    "i = 0\n",
    "while i <=dataLimit:\n",
    "  print(i)\n",
    "  print(students[i])\n",
    "  i+=1"
   ]
  }
 ],
 "metadata": {
  "kernelspec": {
   "display_name": "base",
   "language": "python",
   "name": "python3"
  },
  "language_info": {
   "codemirror_mode": {
    "name": "ipython",
    "version": 3
   },
   "file_extension": ".py",
   "mimetype": "text/x-python",
   "name": "python",
   "nbconvert_exporter": "python",
   "pygments_lexer": "ipython3",
   "version": "3.13.2"
  }
 },
 "nbformat": 4,
 "nbformat_minor": 5
}
