{
 "cells": [
  {
   "cell_type": "markdown",
   "id": "d4c7c99a",
   "metadata": {},
   "source": [
    "# Built in Methods of Different Date Types in Python"
   ]
  },
  {
   "cell_type": "markdown",
   "id": "d9dca8fd",
   "metadata": {},
   "source": [
    "### 1. List Methods\n",
    "URL: https://www.w3schools.com/python/python_lists.asp"
   ]
  },
  {
   "cell_type": "code",
   "execution_count": null,
   "id": "14b18829",
   "metadata": {},
   "outputs": [],
   "source": [
    "students = [\"Hira\", \"Asmara\", \"Mehnaz\", \"Arina\", \"Sudais\", \"Hira\"]\n",
    "#             0,     1         2         3         4         5\n",
    "\n",
    "# NoOfStds = len(students)\n",
    "\n",
    "# print(NoOfStds)\n",
    "\n",
    "print(type(students))"
   ]
  },
  {
   "cell_type": "code",
   "execution_count": null,
   "id": "283ba651",
   "metadata": {},
   "outputs": [],
   "source": [
    "books = list((\"eng.\", \"Business Process Eng.\",\n",
    "             \"math\", \"Pak Study\", \"Chemisty\"))\n",
    "\n",
    "mostUnfavSub = books[4]\n",
    "\n",
    "# print(mostUnfavSub)\n",
    "\n",
    "# lstInd = len(books) - 1\n",
    "# print(books[4])\n",
    "\n",
    "\n",
    "# sjhUnFavSub = books[2:]\n",
    "# # print(type(sjhUnFavSub))\n",
    "# print(sjhUnFavSub)"
   ]
  },
  {
   "cell_type": "code",
   "execution_count": null,
   "id": "89034b24",
   "metadata": {},
   "outputs": [],
   "source": [
    "books = [\"eng.\", \"Business Process Eng.\", \"math\", \"Pak Study\", \"Chemisty\"]\n",
    "\n",
    "imaUnFavSub = books[:3]\n",
    "\n",
    "print(imaUnFavSub)\n",
    "imaUnFavSub[0] = \"Physics\"\n",
    "print(imaUnFavSub)"
   ]
  },
  {
   "cell_type": "code",
   "execution_count": null,
   "id": "e8bc5e8f",
   "metadata": {},
   "outputs": [],
   "source": [
    "course = \"Full Snack Web Development\"\n",
    "# print(course[0])\n",
    "# print(len(course))\n",
    "# print(course[10:])\n",
    "print(course[6])\n",
    "# course[6] = \"t\" # not allowed"
   ]
  },
  {
   "cell_type": "code",
   "execution_count": null,
   "id": "0524c003",
   "metadata": {},
   "outputs": [],
   "source": [
    "students = [\"Hira\", \"Asmara\", \"Mehnaz\", \"Arina\", \"Sudais\", \"Hira\"]\n",
    "print(students)\n",
    "\n",
    "students.append(\"Jawad\")\n",
    "print(students)\n",
    "students.remove(\"Asmara\")\n",
    "print(students)\n",
    "students.pop()\n",
    "print(students)"
   ]
  },
  {
   "cell_type": "code",
   "execution_count": null,
   "id": "ea1f2c47",
   "metadata": {},
   "outputs": [],
   "source": [
    "students = [\"Hira\", \"Asmara\", \"Mehnaz\", \"Arina\", \"Sudais\", \"Hira\"]\n",
    "\n",
    "print(len(students))\n",
    "students[0] = \"jawad\"\n",
    "# students.insert(0, \"Jawad\")\n",
    "print(students)"
   ]
  },
  {
   "cell_type": "code",
   "execution_count": null,
   "id": "13584983",
   "metadata": {},
   "outputs": [],
   "source": [
    "clsStd = [\"Jwad\", \"Sudais\"]\n",
    "clsGirls = [\"Asmara\", \"Hira\", \"Arina\", \"Mehnaz\"]\n",
    "clsStd.extend(clsGirls)\n",
    "print(clsStd)\n",
    "# clsStd.pop(0)\n",
    "# clsStd.remove(\"Jwad\")\n",
    "# del clsStd[0]\n",
    "# print(clsStd)\n",
    "# clsStd.clear()\n",
    "# print(clsStd)"
   ]
  },
  {
   "cell_type": "code",
   "execution_count": null,
   "id": "726a66ef",
   "metadata": {},
   "outputs": [],
   "source": [
    "books = list((\"english\", \"Business Process Eng.\",\n",
    "             \"math\", \"Pak Study\", \"Chemisty\", \"math\"))\n",
    "print(books)\n",
    "# books.sort(reverse=False)\n",
    "# books.reverse()\n",
    "# print(books)\n",
    "# print(books.count(\"math\"))\n",
    "print(books.index(\"Pak Study\"))"
   ]
  },
  {
   "cell_type": "markdown",
   "id": "a6e9e984",
   "metadata": {},
   "source": [
    "## Task: Solve this\n",
    "url: https://www.w3schools.com/python/python_lists_exercises.asp"
   ]
  },
  {
   "cell_type": "markdown",
   "id": "89a2d3d0",
   "metadata": {},
   "source": [
    "## Dictionary Methods\n",
    "URL: https://www.w3schools.com/python/python_dictionaries.asp"
   ]
  },
  {
   "cell_type": "code",
   "execution_count": null,
   "id": "f0210787",
   "metadata": {},
   "outputs": [],
   "source": [
    "std1 = {\n",
    "    \"name\": \"Sudais Khan\",\n",
    "    \"rollNo\": 10,\n",
    "    \"addr\": \"kotli ajk\",\n",
    "    \"phone\": \"123456789\",\n",
    "    \"email\": \"sudais@gmail.com\",\n",
    "    \"name\": \"Sudais\"  # will override first one\n",
    "}\n",
    "\n",
    "# print(std1)\n",
    "# std1Addr = std1[\"addr\"]\n",
    "# print(std1Addr)\n",
    "# if std1[\"addr\"] == \"kotli ajk\":\n",
    "#   print(\"ye banda kotli rehta hai.\")\n",
    "# else:\n",
    "#   print(\"ye koi ajnabi hai. kotli ni rehta.\")\n",
    "\n",
    "print(std1)\n",
    "std1[\"addr\"] = \"kuch b\"\n",
    "print(std1)\n",
    "print(len(std1))"
   ]
  },
  {
   "cell_type": "code",
   "execution_count": null,
   "id": "3b29e1d6",
   "metadata": {},
   "outputs": [],
   "source": [
    "book = dict(name=\"Rich Dad Poor Dad\", price=900,\n",
    "            author=\"Robert Kiyosaki\", publishedAt=1997, isBad=False)\n",
    "# print(book)\n",
    "# print(type(book))"
   ]
  },
  {
   "cell_type": "code",
   "execution_count": null,
   "id": "d271fc34",
   "metadata": {},
   "outputs": [],
   "source": [
    "std1 = {\n",
    "    \"name\": \"Sudais Khan\",\n",
    "    \"rollNo\": 10,\n",
    "    \"addr\": \"kotli ajk\",\n",
    "    \"phone\": \"123456789\",\n",
    "    \"email\": \"sudais@gmail.com\"\n",
    "}\n",
    "\n",
    "# print(std1.keys())\n",
    "# print(std1.values())\n",
    "# print(std1.get(\"addr\"))\n",
    "# print(std1)\n",
    "# print(std1.items())\n",
    "\n",
    "# std1.update({\"name2\":\"jwad\", \"cgpa\":3.3})\n",
    "# std1[\"name2\"] = \"jwad\"\n",
    "print(std1)\n",
    "# std1.pop(\"name\")\n",
    "# print(std1)\n",
    "# std1.popitem()\n",
    "# print(std1)\n",
    "\n",
    "del std1[\"phone\"]\n",
    "print(std1)\n",
    "std1.clear()\n",
    "print(std1)"
   ]
  },
  {
   "cell_type": "markdown",
   "id": "1545fd0a",
   "metadata": {},
   "source": [
    "## Combination of List + Dict"
   ]
  },
  {
   "cell_type": "code",
   "execution_count": null,
   "metadata": {},
   "outputs": [],
   "source": [
    "students = [\n",
    "  {\n",
    "    \"name\": \"sudais\",\n",
    "    \"addr\": \"kotli\",\n",
    "    \"phone\": \"123456789\",\n",
    "    \"email\": \"sudais@gmail.com \"\n",
    "},\n",
    "{\n",
    "    \"name\": \"Mehnaz\",\n",
    "    \"addr\": \"gulpur\",\n",
    "    \"phone\": \"345678\",\n",
    "    \"email\": \"mehnaz@gmail.com\"\n",
    "},\n",
    "{\n",
    "    \"name\": \"hira\",\n",
    "    \"addr\": \"khoiratta\",\n",
    "    \"phone\": \"9876543\",\n",
    "    \"email\": \"hira@gmail.com\"\n",
    "}\n",
    "]\n",
    "\n",
    "\n",
    "\n",
    "print(type(students))\n",
    "print(type(students[0]))\n",
    "print( students[2][\"name\"] )"
   ]
  },
  {
   "cell_type": "code",
   "execution_count": null,
   "id": "11dcf9cf",
   "metadata": {},
   "outputs": [],
   "source": [
    "books = [{\n",
    "  \"name\":\"Coding Fundamentals\",\n",
    "  \"price\":800,\n",
    "},{\n",
    "  \"name\":\"Object Oriented Programming\",\n",
    "  \"price\":550\n",
    "}]\n",
    "animals = [\"cat\", \"horse\"]\n",
    "# type(books[0])\n",
    "# print( type(animals[0]))\n",
    "# print( type(books[0]) )\n",
    "# print(len(books))\n",
    "# print(len(books[0]))\n",
    "bk2Name = books[1][\"name\"]\n",
    "print(bk2Name)\n",
    "\n",
    "book1Price = books[1][\"price\"]\n",
    "print(book1Price)"
   ]
  },
  {
   "cell_type": "code",
   "execution_count": 76,
   "id": "8bc9256b",
   "metadata": {},
   "outputs": [
    {
     "name": "stdout",
     "output_type": "stream",
     "text": [
      "[{'name': 'Coding Fundamentals', 'price': 800}, {'name': 'Object Oriented Programming', 'price': 1000}]\n"
     ]
    }
   ],
   "source": [
    "books = [{\n",
    "  \"name\":\"Coding Fundamentals\",\n",
    "  \"price\":800,\n",
    "},{\n",
    "  \"name\":\"Object Oriented Programming\",\n",
    "  \"price\":550\n",
    "}]\n",
    "books[1][\"price\"] = 1000\n",
    "print(books)"
   ]
  },
  {
   "cell_type": "code",
   "execution_count": null,
   "id": "7ea10602",
   "metadata": {},
   "outputs": [],
   "source": [
    "colors = [{}, {}, {}]\n",
    "colors = [[], [], []]\n",
    "colors = [(), (), ()]\n",
    "colors = [(), {}, []]\n",
    "color = {\n",
    "  \"name\":{\n",
    "    \"inAmerica\":\"yellow\",\n",
    "    \"inPakistan\":\"peela\"\n",
    "  },\n",
    "  \"price\":{\n",
    "    \"originalPrice\":1000,\n",
    "    \"onSale\":800,\n",
    "    \"possibleDiscount\":50\n",
    "  },\n",
    "  \"types\": [\"\"]\n",
    "}"
   ]
  }
 ],
 "metadata": {
  "kernelspec": {
   "display_name": "base",
   "language": "python",
   "name": "python3"
  },
  "language_info": {
   "codemirror_mode": {
    "name": "ipython",
    "version": 3
   },
   "file_extension": ".py",
   "mimetype": "text/x-python",
   "name": "python",
   "nbconvert_exporter": "python",
   "pygments_lexer": "ipython3",
   "version": "3.13.2"
  }
 },
 "nbformat": 4,
 "nbformat_minor": 5
}
