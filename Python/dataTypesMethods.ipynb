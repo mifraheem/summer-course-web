{
 "cells": [
  {
   "cell_type": "markdown",
   "id": "d4c7c99a",
   "metadata": {},
   "source": [
    "# Built in Methods of Different Date Types in Python"
   ]
  },
  {
   "cell_type": "markdown",
   "id": "d9dca8fd",
   "metadata": {},
   "source": [
    "### 1. List Methods\n",
    "URL: https://www.w3schools.com/python/python_lists.asp"
   ]
  },
  {
   "cell_type": "code",
   "execution_count": null,
   "id": "14b18829",
   "metadata": {},
   "outputs": [],
   "source": [
    "students = [\"Hira\", \"Asmara\", \"Mehnaz\", \"Arina\", \"Sudais\", \"Hira\"]\n",
    " #             0,     1         2         3         4         5\n",
    "\n",
    "# NoOfStds = len(students)\n",
    "\n",
    "# print(NoOfStds)\n",
    "\n",
    "print(type(students))\n"
   ]
  },
  {
   "cell_type": "code",
   "execution_count": 52,
   "id": "283ba651",
   "metadata": {},
   "outputs": [
    {
     "name": "stdout",
     "output_type": "stream",
     "text": [
      "['math', 'Pak Study', 'Chemisty']\n"
     ]
    }
   ],
   "source": [
    "books = list( (\"eng.\",\"Business Process Eng.\",\"math\", \"Pak Study\", \"Chemisty\") )\n",
    "\n",
    "mostUnfavSub = books[4]\n",
    "\n",
    "# print(mostUnfavSub)\n",
    "\n",
    "# lstInd = len(books) - 1\n",
    "# print(books[4])\n",
    "\n",
    "\n",
    "# sjhUnFavSub = books[2:]\n",
    "# # print(type(sjhUnFavSub))\n",
    "# print(sjhUnFavSub)\n"
   ]
  },
  {
   "cell_type": "code",
   "execution_count": 71,
   "id": "89034b24",
   "metadata": {},
   "outputs": [
    {
     "name": "stdout",
     "output_type": "stream",
     "text": [
      "['eng.', 'Business Process Eng.', 'math']\n",
      "['Physics', 'Business Process Eng.', 'math']\n"
     ]
    }
   ],
   "source": [
    "books = [\"eng.\",\"Business Process Eng.\",\"math\", \"Pak Study\", \"Chemisty\"]\n",
    "\n",
    "imaUnFavSub = books[:3]\n",
    "\n",
    "print(imaUnFavSub)\n",
    "imaUnFavSub[0] = \"Physics\"\n",
    "print(imaUnFavSub)"
   ]
  },
  {
   "cell_type": "code",
   "execution_count": 75,
   "id": "e8bc5e8f",
   "metadata": {},
   "outputs": [
    {
     "name": "stdout",
     "output_type": "stream",
     "text": [
      "n\n"
     ]
    }
   ],
   "source": [
    "course = \"Full Snack Web Development\"\n",
    "# print(course[0])\n",
    "# print(len(course))\n",
    "# print(course[10:])\n",
    "print(course[6])\n",
    "# course[6] = \"t\" # not allowed"
   ]
  },
  {
   "cell_type": "code",
   "execution_count": 86,
   "id": "0524c003",
   "metadata": {},
   "outputs": [
    {
     "name": "stdout",
     "output_type": "stream",
     "text": [
      "['Hira', 'Asmara', 'Mehnaz', 'Arina', 'Sudais', 'Hira']\n",
      "['Hira', 'Asmara', 'Mehnaz', 'Arina', 'Sudais', 'Hira', 'Jawad']\n",
      "['Hira', 'Mehnaz', 'Arina', 'Sudais', 'Hira', 'Jawad']\n",
      "['Hira', 'Mehnaz', 'Arina', 'Sudais', 'Hira']\n"
     ]
    }
   ],
   "source": [
    "students = [\"Hira\", \"Asmara\", \"Mehnaz\", \"Arina\", \"Sudais\", \"Hira\"]\n",
    "print(students)\n",
    "\n",
    "students.append(\"Jawad\")\n",
    "print(students)\n",
    "students.remove(\"Asmara\")\n",
    "print(students)\n",
    "students.pop()\n",
    "print(students)"
   ]
  },
  {
   "cell_type": "code",
   "execution_count": 94,
   "id": "ea1f2c47",
   "metadata": {},
   "outputs": [
    {
     "name": "stdout",
     "output_type": "stream",
     "text": [
      "6\n",
      "['jawad', 'Asmara', 'Mehnaz', 'Arina', 'Sudais', 'Hira']\n"
     ]
    }
   ],
   "source": [
    "students = [\"Hira\", \"Asmara\", \"Mehnaz\", \"Arina\", \"Sudais\", \"Hira\"]\n",
    "\n",
    "print(len(students))\n",
    "students[0] = \"jawad\"\n",
    "# students.insert(0, \"Jawad\")\n",
    "print(students)"
   ]
  },
  {
   "cell_type": "code",
   "execution_count": 109,
   "id": "13584983",
   "metadata": {},
   "outputs": [
    {
     "name": "stdout",
     "output_type": "stream",
     "text": [
      "['Jwad', 'Sudais', 'Asmara', 'Hira', 'Arina', 'Mehnaz']\n",
      "['Jwad', 'Sudais', 'Asmara', 'Hira', 'Arina', 'Mehnaz']\n"
     ]
    }
   ],
   "source": [
    "clsStd = [\"Jwad\", \"Sudais\"]\n",
    "clsGirls = [\"Asmara\", \"Hira\", \"Arina\", \"Mehnaz\"]\n",
    "clsStd.extend(clsGirls)\n",
    "print(clsStd)\n",
    "# clsStd.pop(0)\n",
    "# clsStd.remove(\"Jwad\")\n",
    "# del clsStd[0]\n",
    "# print(clsStd)\n",
    "# clsStd.clear()\n",
    "# print(clsStd)\n",
    "\n"
   ]
  },
  {
   "cell_type": "code",
   "execution_count": 120,
   "id": "726a66ef",
   "metadata": {},
   "outputs": [
    {
     "name": "stdout",
     "output_type": "stream",
     "text": [
      "['english', 'Business Process Eng.', 'math', 'Pak Study', 'Chemisty', 'math']\n",
      "3\n"
     ]
    }
   ],
   "source": [
    "books = list( (\"english\",\"Business Process Eng.\",\"math\", \"Pak Study\", \"Chemisty\", \"math\") )\n",
    "print(books)\n",
    "# books.sort(reverse=False)\n",
    "# books.reverse()\n",
    "# print(books)\n",
    "# print(books.count(\"math\"))\n",
    "print(books.index(\"Pak Study\"))"
   ]
  },
  {
   "cell_type": "markdown",
   "id": "a6e9e984",
   "metadata": {},
   "source": [
    "## Task: Solve this\n",
    "url: https://www.w3schools.com/python/python_lists_exercises.asp"
   ]
  }
 ],
 "metadata": {
  "kernelspec": {
   "display_name": "base",
   "language": "python",
   "name": "python3"
  },
  "language_info": {
   "codemirror_mode": {
    "name": "ipython",
    "version": 3
   },
   "file_extension": ".py",
   "mimetype": "text/x-python",
   "name": "python",
   "nbconvert_exporter": "python",
   "pygments_lexer": "ipython3",
   "version": "3.13.2"
  }
 },
 "nbformat": 4,
 "nbformat_minor": 5
}
