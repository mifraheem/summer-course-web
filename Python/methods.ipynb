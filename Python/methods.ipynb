{
 "cells": [
  {
   "cell_type": "markdown",
   "id": "247d0c70",
   "metadata": {},
   "source": [
    "# Type Casting"
   ]
  },
  {
   "cell_type": "code",
   "execution_count": 89,
   "id": "4b1a4436",
   "metadata": {},
   "outputs": [
    {
     "name": "stdout",
     "output_type": "stream",
     "text": [
      "<class 'str'> 3\n",
      "<class 'int'> 3\n"
     ]
    }
   ],
   "source": [
    "a = \"3\"\n",
    "print(type(a), a)\n",
    "a = int(a)\n",
    "print(type(a), a)"
   ]
  },
  {
   "cell_type": "markdown",
   "id": "72f23aed",
   "metadata": {},
   "source": [
    "# int > float\n",
    "# float > int\n",
    "# valid int str > int\n",
    "# valid float str > float\n"
   ]
  },
  {
   "cell_type": "code",
   "execution_count": 96,
   "id": "660bb40f",
   "metadata": {},
   "outputs": [
    {
     "name": "stdout",
     "output_type": "stream",
     "text": [
      "<class 'str'> 5.0\n",
      "<class 'float'> 5.0\n"
     ]
    }
   ],
   "source": [
    "a = \"5.0\"\n",
    "print(type(a), a)\n",
    "a = float(a)\n",
    "print(type(a), a)"
   ]
  }
 ],
 "metadata": {
  "language_info": {
   "name": "python"
  }
 },
 "nbformat": 4,
 "nbformat_minor": 5
}
