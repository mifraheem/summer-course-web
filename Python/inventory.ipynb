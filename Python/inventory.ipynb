{
 "cells": [
  {
   "cell_type": "code",
   "execution_count": 23,
   "id": "24f076a7",
   "metadata": {},
   "outputs": [
    {
     "name": "stdout",
     "output_type": "stream",
     "text": [
      "Index: 0 Product: {'name': 'laptop', 'price': 500}\n",
      "Index: 1 Product: {'name': 'mouse', 'price': 200}\n",
      "Index: 2 Product: {'name': 'keyboard', 'price': 400}\n",
      "[{'name': 'mouse', 'price': 200}, {'name': 'keyboard', 'price': 400}]\n"
     ]
    }
   ],
   "source": [
    "products = [\n",
    "  {\n",
    "    \"name\":\"laptop\",\n",
    "    \"price\":500,\n",
    "  },\n",
    "  {\n",
    "    \"name\":\"mouse\",\n",
    "    \"price\":200,\n",
    "  },\n",
    "  {\n",
    "    \"name\":\"keyboard\",\n",
    "    \"price\":400,\n",
    "  },\n",
    "]\n",
    "for ind, prod in enumerate(products):\n",
    "  print(f\"Index: {ind} Product: {prod}\")\n",
    "wantToUpdate = input(\"do you want to update the price of existing product?: \")\n",
    "if wantToUpdate == \"yes\":\n",
    "  toUpdate = int(input(\"Enter the index number of product to update the price: \")) #0, 1, 2\n",
    "\n",
    "  newPrice = float(input(f\"Please Enter new price for {products[toUpdate][\"name\"]} : \"))\n",
    "\n",
    "  products[toUpdate][\"price\"] = newPrice\n",
    "\n",
    "wantToAdd = input(\"Do you want to add a new product?: \")\n",
    "if wantToAdd == \"yes\":\n",
    "  newProduct = {}\n",
    "  newName = input(\"Enter the name of new product\")\n",
    "  newProduct[\"name\"] = newName\n",
    "  newPrice = float(input(\"Enter the price of new product: \"))\n",
    "  newProduct[\"price\"] = newPrice\n",
    "  products.append(newProduct)\n",
    "\n",
    "wantToDelete = input(\"Do you want to delete a product?: \")\n",
    "if wantToDelete == \"yes\":\n",
    "  prodToDelete = int(input(\"Enter the index number of product to delete: \"))\n",
    "  products.pop(prodToDelete)\n",
    "print(products)"
   ]
  }
 ],
 "metadata": {
  "kernelspec": {
   "display_name": "base",
   "language": "python",
   "name": "python3"
  },
  "language_info": {
   "codemirror_mode": {
    "name": "ipython",
    "version": 3
   },
   "file_extension": ".py",
   "mimetype": "text/x-python",
   "name": "python",
   "nbconvert_exporter": "python",
   "pygments_lexer": "ipython3",
   "version": "3.13.2"
  }
 },
 "nbformat": 4,
 "nbformat_minor": 5
}
