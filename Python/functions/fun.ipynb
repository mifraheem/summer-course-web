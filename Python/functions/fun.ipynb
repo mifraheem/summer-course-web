{
 "cells": [
  {
   "cell_type": "code",
   "execution_count": null,
   "id": "2e12aba1",
   "metadata": {},
   "outputs": [],
   "source": [
    "def userData():\n",
    "  value = input(\"Enter a value: \")\n",
    "  return value\n",
    "\n",
    "userData()"
   ]
  },
  {
   "cell_type": "code",
   "execution_count": null,
   "id": "2d8d71d4",
   "metadata": {},
   "outputs": [],
   "source": [
    "a = \"5\"\n",
    "print(type(a))\n",
    "a = int(a)\n",
    "print(type(a))"
   ]
  },
  {
   "cell_type": "code",
   "execution_count": null,
   "id": "8fcd2c2b",
   "metadata": {},
   "outputs": [],
   "source": [
    "def sumOfTwoNum():\n",
    "  num1 = int(input(\"Enter first number: \"))\n",
    "  num2 = input(\"Enter second number: \")\n",
    "  num2 = int(num2)\n",
    "  return num1 + num2\n",
    "\n",
    "res = sumOfTwoNum()\n",
    "print(res)\n",
    "\n",
    "std1 = [50, 60]\n",
    "std2 = [20, 30]\n"
   ]
  },
  {
   "cell_type": "markdown",
   "id": "27630ca5",
   "metadata": {},
   "source": [
    "# Arguments in Functions"
   ]
  },
  {
   "cell_type": "code",
   "execution_count": null,
   "id": "b0ca1ede",
   "metadata": {},
   "outputs": [],
   "source": [
    "def calcRes(num1, num2):\n",
    "  return num1 + num2\n",
    "\n",
    "a = 50\n",
    "b = 60\n",
    "res = calcRes(a, b)\n",
    "print(res)\n",
    "\n",
    "c = calcRes(10, 20)\n",
    "print(c)"
   ]
  },
  {
   "cell_type": "code",
   "execution_count": null,
   "id": "0f7a5eac",
   "metadata": {},
   "outputs": [],
   "source": [
    "std1 = [10,20]\n",
    "std2 = [30,40]\n",
    "std3 = [50,60]\n",
    "\n",
    "def marksCalculator(num1, num2):\n",
    "  \n",
    "  return num1 + num2\n",
    "\n",
    "std1Res = marksCalculator(std1[0], std1[1])\n",
    "print(std1Res)\n",
    "\n",
    "std2Res = marksCalculator(std2[0], std2[1])\n",
    "print(std2Res)"
   ]
  },
  {
   "cell_type": "code",
   "execution_count": null,
   "id": "e20a49ab",
   "metadata": {},
   "outputs": [],
   "source": [
    "def testFun():\n",
    "  a = 10\n",
    "  b = 20\n",
    "  return a, b\n",
    "\n",
    "res1, res2 = testFun()\n",
    "print(res1)\n",
    "print(res2)"
   ]
  },
  {
   "cell_type": "markdown",
   "id": "f496ce63",
   "metadata": {},
   "source": [
    "# define a funciton.\n",
    "## fun should get 5 values in param\n",
    "## calc. and return sum of all values\n",
    "## calc. and return the avg of all values : \n",
    "<!-- ## calc. and return the -->\n",
    "# sum of all number / total number."
   ]
  },
  {
   "cell_type": "code",
   "execution_count": 24,
   "id": "caba9aab",
   "metadata": {},
   "outputs": [
    {
     "name": "stdout",
     "output_type": "stream",
     "text": [
      "The sum of all number is : 15\n",
      "The avg of all number is: 3.0\n"
     ]
    }
   ],
   "source": [
    "def calcSumAvg(n1,n2,n3,n4,n5):\n",
    "  calcSum = n1 + n2 + n3 + n4 + n5\n",
    "  calcAvg = calcSum/5\n",
    "  return calcSum, calcAvg\n",
    "\n",
    "\n",
    "resSum, resAvg = calcSumAvg(3,4,5,2,1)\n",
    "print(f\"The sum of all number is : {resSum}\\nThe avg of all number is: {resAvg}\")"
   ]
  }
 ],
 "metadata": {
  "kernelspec": {
   "display_name": "base",
   "language": "python",
   "name": "python3"
  },
  "language_info": {
   "codemirror_mode": {
    "name": "ipython",
    "version": 3
   },
   "file_extension": ".py",
   "mimetype": "text/x-python",
   "name": "python",
   "nbconvert_exporter": "python",
   "pygments_lexer": "ipython3",
   "version": "3.13.2"
  }
 },
 "nbformat": 4,
 "nbformat_minor": 5
}
